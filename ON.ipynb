{
 "cells": [
  {
   "cell_type": "code",
   "execution_count": null,
   "metadata": {},
   "outputs": [],
   "source": [
    "import numpy as np"
   ]
  },
  {
   "cell_type": "code",
   "execution_count": null,
   "metadata": {},
   "outputs": [],
   "source": [
    "# Example 1\n",
    "v1 = np.array([1,1,1])\n",
    "v2 = np.array([1,-1,2])\n",
    "v3 = np.array([-1,1,3])\n",
    "\n",
    "v = np.array([v1,v2,v3])"
   ]
  },
  {
   "cell_type": "code",
   "execution_count": 7,
   "metadata": {},
   "outputs": [],
   "source": [
    "# Example 2\n",
    "v1 = np.array([1,1,0])\n",
    "v2 = np.array([1,3,1])\n",
    "v3 = np.array([2,-1,1])\n",
    "\n",
    "v = np.array([v1,v2,v3])"
   ]
  },
  {
   "cell_type": "code",
   "execution_count": 12,
   "metadata": {},
   "outputs": [],
   "source": [
    "# explicit function to normalize array\n",
    "def normalize_2d(v):\n",
    "    norm = np.linalg.norm(v)\n",
    "    v = v/norm  # normalized matrix\n",
    "    return v"
   ]
  },
  {
   "cell_type": "code",
   "execution_count": 17,
   "metadata": {},
   "outputs": [
    {
     "name": "stdout",
     "output_type": "stream",
     "text": [
      "[[ 0.70710678  0.70710678  0.        ]\n",
      " [-0.57735027  0.57735027  0.57735027]\n",
      " [ 0.40824829 -0.40824829  0.81649658]]\n"
     ]
    }
   ],
   "source": [
    "def orthogonal(v):\n",
    "    vpp = np.empty((0, v.shape[1]))\n",
    "    for i in v:\n",
    "        vp = i\n",
    "        for j in vpp:\n",
    "            vp = vp - np.inner(i, j) * j\n",
    "        vp = normalize_2d(vp)\n",
    "        vpp = np.vstack([vpp, vp])\n",
    "    return vpp\n",
    "\n",
    "print(orthogonal(v))\n"
   ]
  },
  {
   "cell_type": "code",
   "execution_count": 16,
   "metadata": {},
   "outputs": [
    {
     "name": "stdout",
     "output_type": "stream",
     "text": [
      "[0.70710678 0.70710678 0.        ]\n",
      "[-0.57735027  0.57735027  0.57735027]\n",
      "[ 0.40824829 -0.40824829  0.81649658]\n"
     ]
    }
   ],
   "source": [
    "print (1 / np.sqrt(2) * np.array([1,1,0]))\n",
    "print (1 / np.sqrt(3) * np.array([-1,1,1]))\n",
    "print (1 / np.sqrt(6) * np.array([1,-1,2]))\n"
   ]
  }
 ],
 "metadata": {
  "kernelspec": {
   "display_name": "Python 3",
   "language": "python",
   "name": "python3"
  },
  "language_info": {
   "codemirror_mode": {
    "name": "ipython",
    "version": 3
   },
   "file_extension": ".py",
   "mimetype": "text/x-python",
   "name": "python",
   "nbconvert_exporter": "python",
   "pygments_lexer": "ipython3",
   "version": "3.12.4"
  }
 },
 "nbformat": 4,
 "nbformat_minor": 2
}
